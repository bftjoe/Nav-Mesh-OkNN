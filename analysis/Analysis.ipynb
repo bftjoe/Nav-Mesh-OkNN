{
 "cells": [
  {
   "cell_type": "code",
   "execution_count": 1,
   "metadata": {
    "collapsed": false
   },
   "outputs": [],
   "source": [
    "import os\n",
    "from utilities import *\n",
    "from SoCS18 import *\n",
    "from journal_paper import *\n",
    "% matplotlib inline"
   ]
  },
  {
   "cell_type": "code",
   "execution_count": 2,
   "metadata": {
    "collapsed": true
   },
   "outputs": [],
   "source": [
    "# config\n",
    "alias['interval heuristic'] = 'Polyanya-hv'\n",
    "alias['target heuristic'] = 'Polyanya-ht'\n",
    "alias['polyanya'] = 'BF Polyanya'\n",
    "alias['target heuristic call'] = 'Polyanya-ht hcall'\n",
    "alias['poly-zero'] = 'Polyanya-h0'\n",
    "alias['fence nn'] = 'Fence nn'\n",
    "\n",
    "styles[\"LVG\"] = \"ro-\"\n",
    "styles[\"interval heuristic\"] = \"g^-\"\n",
    "styles[\"interval heuristic\"] = \"g^-\"\n",
    "styles[\"target heuristic\"] = \"kx-\"\n",
    "styles[\"target heuristic call\"] = \"k*-\"\n",
    "styles[\"heuristic cost\"] = \"k^-\"\n",
    "styles[\"total cost\"] = \"cD-.\"\n",
    "styles[\"polyanya\"] = \"bs-\"\n",
    "styles[\"poly-zero\"] = \"b+-\"\n",
    "styles[\"node push\"] = \"m|-\"\n",
    "styles['fence heuristic'] = 'ys-'\n",
    "styles['Fence nn'] = 'rs-'\n",
    "for k in list(styles.keys()):\n",
    "    if alias.get(k, None) is not None:\n",
    "        styles[alias[k]] = styles[k]\n",
    "                    \n",
    "plt.rcParams.update({'font.size': 20})\n",
    "plt.rc('grid', linestyle=\"-.\", color='gray')"
   ]
  },
  {
   "cell_type": "code",
   "execution_count": null,
   "metadata": {
    "collapsed": false
   },
   "outputs": [],
   "source": [
    "# load dense\n",
    "paths0 = os.listdir('../outputs/s1/')\n",
    "paths0 = ['../outputs/s1/' + i for i in paths0]\n",
    "df0 = load_files(paths0)\n",
    "\n",
    "# load sparse\n",
    "paths1 = os.listdir('../outputs/s2/')\n",
    "paths1 = ['../outputs/s2/' + i for i in paths1]\n",
    "df1 = load_files(paths1)"
   ]
  },
  {
   "cell_type": "code",
   "execution_count": 3,
   "metadata": {
    "collapsed": false
   },
   "outputs": [],
   "source": [
    "# time_ylim = [0.0005, 10**6]\n",
    "# gen_ylim = [5, 10**7]\n",
    "time_ylim = None\n",
    "gen_ylim = None"
   ]
  },
  {
   "cell_type": "code",
   "execution_count": 4,
   "metadata": {
    "collapsed": false
   },
   "outputs": [
    {
     "name": "stdout",
     "output_type": "stream",
     "text": [
      "../outputs/nn/brc202d-20-8.log\n",
      "../outputs/nn/brc202d-20-9.log\n",
      "../outputs/nn/brc202d-20-10.log\n",
      "../outputs/nn/brc202d-20-60.log\n",
      "../outputs/nn/brc202d-20-70.log\n",
      "../outputs/nn/brc202d-20-80.log\n",
      "../outputs/nn/brc202d-20-40.log\n",
      "../outputs/nn/brc202d-20-100.log\n",
      "../outputs/nn/brc202d-20-50.log\n",
      "../outputs/nn/brc202d-20-90.log\n",
      "../outputs/nn/brc202d-20-7.log\n",
      "../outputs/nn/brc202d-20-20.log\n",
      "../outputs/nn/brc202d-20-6.log\n",
      "../outputs/nn/brc202d-20-4.log\n",
      "../outputs/nn/brc202d-20-5.log\n",
      "../outputs/nn/brc202d-20-1.log\n",
      "../outputs/nn/brc202d-20-2.log\n",
      "../outputs/nn/brc202d-20-30.log\n",
      "../outputs/nn/brc202d-20-3.log\n"
     ]
    },
    {
     "data": {
      "text/html": [
       "<div>\n",
       "<table border=\"1\" class=\"dataframe\">\n",
       "  <thead>\n",
       "    <tr style=\"text-align: right;\">\n",
       "      <th></th>\n",
       "      <th>k</th>\n",
       "      <th>dist</th>\n",
       "      <th>cost_edbt</th>\n",
       "      <th>gen_edbt</th>\n",
       "      <th>cost_ki0</th>\n",
       "      <th>gen_ki0</th>\n",
       "      <th>cost_ki</th>\n",
       "      <th>gen_ki</th>\n",
       "      <th>cost_poly</th>\n",
       "      <th>gen_poly</th>\n",
       "      <th>...</th>\n",
       "      <th>hcall</th>\n",
       "      <th>reevaluate</th>\n",
       "      <th>cost_fi</th>\n",
       "      <th>gen_fi</th>\n",
       "      <th>cost_pre</th>\n",
       "      <th>gen_pre</th>\n",
       "      <th>edgecnt</th>\n",
       "      <th>fencecnt</th>\n",
       "      <th>pts</th>\n",
       "      <th>polys</th>\n",
       "    </tr>\n",
       "  </thead>\n",
       "  <tbody>\n",
       "    <tr>\n",
       "      <th>0</th>\n",
       "      <td>1</td>\n",
       "      <td>62.0537</td>\n",
       "      <td>0</td>\n",
       "      <td>0</td>\n",
       "      <td>308.733</td>\n",
       "      <td>313</td>\n",
       "      <td>196.944</td>\n",
       "      <td>227</td>\n",
       "      <td>30.159</td>\n",
       "      <td>33</td>\n",
       "      <td>...</td>\n",
       "      <td>19</td>\n",
       "      <td>0</td>\n",
       "      <td>14.824</td>\n",
       "      <td>24</td>\n",
       "      <td>19076.8</td>\n",
       "      <td>8665</td>\n",
       "      <td>6246</td>\n",
       "      <td>15896</td>\n",
       "      <td>7</td>\n",
       "      <td>75</td>\n",
       "    </tr>\n",
       "    <tr>\n",
       "      <th>1</th>\n",
       "      <td>1</td>\n",
       "      <td>58.2495</td>\n",
       "      <td>0</td>\n",
       "      <td>0</td>\n",
       "      <td>707.352</td>\n",
       "      <td>650</td>\n",
       "      <td>346.719</td>\n",
       "      <td>386</td>\n",
       "      <td>9.402</td>\n",
       "      <td>18</td>\n",
       "      <td>...</td>\n",
       "      <td>8</td>\n",
       "      <td>0</td>\n",
       "      <td>52.463</td>\n",
       "      <td>147</td>\n",
       "      <td>19076.8</td>\n",
       "      <td>8665</td>\n",
       "      <td>6246</td>\n",
       "      <td>15896</td>\n",
       "      <td>7</td>\n",
       "      <td>75</td>\n",
       "    </tr>\n",
       "    <tr>\n",
       "      <th>2</th>\n",
       "      <td>1</td>\n",
       "      <td>29.3399</td>\n",
       "      <td>0</td>\n",
       "      <td>0</td>\n",
       "      <td>89.871</td>\n",
       "      <td>129</td>\n",
       "      <td>48.532</td>\n",
       "      <td>73</td>\n",
       "      <td>11.042</td>\n",
       "      <td>22</td>\n",
       "      <td>...</td>\n",
       "      <td>11</td>\n",
       "      <td>0</td>\n",
       "      <td>29.991</td>\n",
       "      <td>94</td>\n",
       "      <td>19076.8</td>\n",
       "      <td>8665</td>\n",
       "      <td>6246</td>\n",
       "      <td>15896</td>\n",
       "      <td>7</td>\n",
       "      <td>75</td>\n",
       "    </tr>\n",
       "    <tr>\n",
       "      <th>3</th>\n",
       "      <td>1</td>\n",
       "      <td>81.8189</td>\n",
       "      <td>0</td>\n",
       "      <td>0</td>\n",
       "      <td>777.115</td>\n",
       "      <td>779</td>\n",
       "      <td>581.456</td>\n",
       "      <td>603</td>\n",
       "      <td>37.656</td>\n",
       "      <td>53</td>\n",
       "      <td>...</td>\n",
       "      <td>34</td>\n",
       "      <td>0</td>\n",
       "      <td>2.437</td>\n",
       "      <td>9</td>\n",
       "      <td>19076.8</td>\n",
       "      <td>8665</td>\n",
       "      <td>6246</td>\n",
       "      <td>15896</td>\n",
       "      <td>7</td>\n",
       "      <td>75</td>\n",
       "    </tr>\n",
       "    <tr>\n",
       "      <th>4</th>\n",
       "      <td>1</td>\n",
       "      <td>154.1170</td>\n",
       "      <td>0</td>\n",
       "      <td>0</td>\n",
       "      <td>723.442</td>\n",
       "      <td>730</td>\n",
       "      <td>485.110</td>\n",
       "      <td>540</td>\n",
       "      <td>123.189</td>\n",
       "      <td>137</td>\n",
       "      <td>...</td>\n",
       "      <td>108</td>\n",
       "      <td>0</td>\n",
       "      <td>59.793</td>\n",
       "      <td>123</td>\n",
       "      <td>19076.8</td>\n",
       "      <td>8665</td>\n",
       "      <td>6246</td>\n",
       "      <td>15896</td>\n",
       "      <td>7</td>\n",
       "      <td>75</td>\n",
       "    </tr>\n",
       "  </tbody>\n",
       "</table>\n",
       "<p>5 rows × 25 columns</p>\n",
       "</div>"
      ],
      "text/plain": [
       "   k      dist  cost_edbt  gen_edbt  cost_ki0  gen_ki0  cost_ki  gen_ki  \\\n",
       "0  1   62.0537          0         0   308.733      313  196.944     227   \n",
       "1  1   58.2495          0         0   707.352      650  346.719     386   \n",
       "2  1   29.3399          0         0    89.871      129   48.532      73   \n",
       "3  1   81.8189          0         0   777.115      779  581.456     603   \n",
       "4  1  154.1170          0         0   723.442      730  485.110     540   \n",
       "\n",
       "   cost_poly  gen_poly  ...    hcall  reevaluate  cost_fi  gen_fi  cost_pre  \\\n",
       "0     30.159        33  ...       19           0   14.824      24   19076.8   \n",
       "1      9.402        18  ...        8           0   52.463     147   19076.8   \n",
       "2     11.042        22  ...       11           0   29.991      94   19076.8   \n",
       "3     37.656        53  ...       34           0    2.437       9   19076.8   \n",
       "4    123.189       137  ...      108           0   59.793     123   19076.8   \n",
       "\n",
       "   gen_pre  edgecnt  fencecnt  pts  polys  \n",
       "0     8665     6246     15896    7     75  \n",
       "1     8665     6246     15896    7     75  \n",
       "2     8665     6246     15896    7     75  \n",
       "3     8665     6246     15896    7     75  \n",
       "4     8665     6246     15896    7     75  \n",
       "\n",
       "[5 rows x 25 columns]"
      ]
     },
     "execution_count": 4,
     "metadata": {},
     "output_type": "execute_result"
    }
   ],
   "source": [
    "paths = os.listdir('../outputs/nn/')\n",
    "paths = ['../outputs/nn/' + i for i in paths if i.startswith('brc')]\n",
    "df3 = load_files(paths)\n",
    "df3.head()"
   ]
  },
  {
   "cell_type": "code",
   "execution_count": 5,
   "metadata": {
    "collapsed": false
   },
   "outputs": [
    {
     "data": {
      "image/png": "[encoded data removed]",
      "text/plain": [
       "<matplotlib.figure.Figure at 0x10ef5ee10>"
      ]
     },
     "metadata": {},
     "output_type": "display_data"
    }
   ],
   "source": [
    "nn_experiment_time(df3, time_ylim)"
   ]
  },
  {
   "cell_type": "code",
   "execution_count": 6,
   "metadata": {
    "collapsed": false
   },
   "outputs": [
    {
     "data": {
      "image/png": "[encoded data removed]",
      "text/plain": [
       "<matplotlib.figure.Figure at 0x113807a90>"
      ]
     },
     "metadata": {},
     "output_type": "display_data"
    }
   ],
   "source": [
    "nn_experiment_gen(df3, gen_ylim)"
   ]
  },
  {
   "cell_type": "markdown",
   "metadata": {},
   "source": [
    "# Experiment 1\n",
    "\n",
    "* dense:  $|O|=9000, |T|=|O|, k=1$\n",
    "* sparse: $|O|=9000, |T|=5, k=1$\n"
   ]
  },
  {
   "cell_type": "code",
   "execution_count": null,
   "metadata": {
    "collapsed": false
   },
   "outputs": [],
   "source": [
    "experiment1_dense_time(df0, time_ylim)"
   ]
  },
  {
   "cell_type": "code",
   "execution_count": null,
   "metadata": {
    "collapsed": false
   },
   "outputs": [],
   "source": [
    "experiment1_dense_gen(df0, gen_ylim)"
   ]
  },
  {
   "cell_type": "code",
   "execution_count": null,
   "metadata": {
    "collapsed": false
   },
   "outputs": [],
   "source": [
    "experiment1_sparse_time(df1, time_ylim)"
   ]
  },
  {
   "cell_type": "code",
   "execution_count": null,
   "metadata": {
    "collapsed": false
   },
   "outputs": [],
   "source": [
    "# sparse: gen\n",
    "experiment1_sparse_gen(df1, gen_ylim)"
   ]
  },
  {
   "cell_type": "markdown",
   "metadata": {},
   "source": [
    "## Experiment 2\n",
    "* dense: $|O|=9000,|T|=|O|,k \\in [1...10]$\n",
    "* sparse: $|O|=9000,|T|=10,k \\in [1...10]$"
   ]
  },
  {
   "cell_type": "code",
   "execution_count": null,
   "metadata": {
    "collapsed": false
   },
   "outputs": [],
   "source": [
    "experiment2_dense_time(df0, time_ylim)"
   ]
  },
  {
   "cell_type": "code",
   "execution_count": null,
   "metadata": {
    "collapsed": false
   },
   "outputs": [],
   "source": [
    "experiment2_dense_gen(df0, gen_ylim)"
   ]
  },
  {
   "cell_type": "code",
   "execution_count": null,
   "metadata": {
    "collapsed": false
   },
   "outputs": [],
   "source": [
    "experiment2_sparse_time(df1, time_ylim)"
   ]
  },
  {
   "cell_type": "code",
   "execution_count": null,
   "metadata": {
    "collapsed": false
   },
   "outputs": [],
   "source": [
    "experiment2_sparse_gen(df1, gen_ylim)"
   ]
  },
  {
   "cell_type": "markdown",
   "metadata": {},
   "source": [
    "# Experiment 3\n",
    "* sparse: $|O|=9000,k=1,|T| \\in [1,...10]$"
   ]
  },
  {
   "cell_type": "code",
   "execution_count": null,
   "metadata": {
    "collapsed": false
   },
   "outputs": [],
   "source": [
    "experiment3_time(df1, time_ylim)"
   ]
  },
  {
   "cell_type": "code",
   "execution_count": null,
   "metadata": {
    "collapsed": false,
    "scrolled": true
   },
   "outputs": [],
   "source": [
    "experiment3_gen(df1, gen_ylim)"
   ]
  },
  {
   "cell_type": "markdown",
   "metadata": {},
   "source": [
    "## Behavior of target heuristic\n"
   ]
  },
  {
   "cell_type": "code",
   "execution_count": null,
   "metadata": {
    "collapsed": false
   },
   "outputs": [],
   "source": [
    "df2 = load_files([\"../s2.log\"])\n",
    "df2.head()"
   ]
  },
  {
   "cell_type": "code",
   "execution_count": null,
   "metadata": {
    "collapsed": false
   },
   "outputs": [],
   "source": [
    "# sparse: time\n",
    "saveto = None\n",
    "limit = 1\n",
    "size =10\n",
    "df = df2.copy()\n",
    "df.dist = (df.dist / size).astype(int)\n",
    "xs = {}\n",
    "ys = {}\n",
    "algos = []\n",
    "\n",
    "# xs[0], ys[0] = gen_xy(df, 'dist', 'cost_ki0', limit=limit)\n",
    "# algos.append(alias['poly-zero'])\n",
    "\n",
    "xs[1], ys[1] = ut.gen_xy(df, 'dist', 'cost_ki', limit=limit)\n",
    "algos.append(alias['interval heuristic'])\n",
    "\n",
    "xs[2], ys[2] = ut.gen_xy(df, 'dist', 'cost_hi', limit=limit)\n",
    "algos.append(alias['target heuristic'])\n",
    "\n",
    "xs[3], ys[3] = ut.gen_xy(df, 'dist', 'cost_poly', limit=limit)\n",
    "algos.append(alias['polyanya'])\n",
    "\n",
    "xs[4], ys[4] = ut.gen_xy(df, 'dist', 'cost_fi', limit=limit)\n",
    "algos.append(\"fence heuristic\")\n",
    "\n",
    "for k in xs.keys():\n",
    "  xs[k] = [v * size for v in xs[k]]\n",
    "  ys[k] = [v / 1000 for v in ys[k]]\n",
    "\n",
    "ut.plot_graph('dist', 'time(ms) (log10)', list(xs.values()), list(ys.values()), algos,\n",
    "         ylim=time_ylim, saveto=saveto)\n",
    "\n"
   ]
  },
  {
   "cell_type": "code",
   "execution_count": null,
   "metadata": {
    "collapsed": false
   },
   "outputs": [],
   "source": [
    "# sparse: gen\n",
    "saveto = None\n",
    "limit = 1\n",
    "size = 10\n",
    "df = df2.copy()\n",
    "df.dist = (df.dist / size).astype(int)\n",
    "xs = {}\n",
    "ys = {}\n",
    "algos = []\n",
    "\n",
    "# xs[0], ys[0] = gen_xy(df, 'dist', 'cost_ki0', limit=limit)\n",
    "# algos.append(alias['poly-zero'])\n",
    "\n",
    "xs[1], ys[1] = ut.gen_xy(df, 'dist', 'gen_ki', limit=limit)\n",
    "algos.append(alias['interval heuristic'])\n",
    "\n",
    "xs[2], ys[2] = ut.gen_xy(df, 'dist', 'gen_hi', limit=limit)\n",
    "algos.append(alias['target heuristic'])\n",
    "\n",
    "xs[3], ys[3] = ut.gen_xy(df, 'dist', 'gen_poly', limit=limit)\n",
    "algos.append(alias['polyanya'])\n",
    "\n",
    "xs[4], ys[4] = ut.gen_xy(df, 'dist', 'cost_fi', limit=limit)\n",
    "algos.append(\"fence heuristic\")\n",
    "\n",
    "for k in xs.keys():\n",
    "  xs[k] = [v * size for v in xs[k]]\n",
    "\n",
    "ut.plot_graph('dist', 'generated (log10)', list(xs.values()), list(ys.values()), algos,\n",
    "         ylim=gen_ylim, saveto=saveto)\n",
    "\n"
   ]
  },
  {
   "cell_type": "code",
   "execution_count": null,
   "metadata": {
    "collapsed": false
   },
   "outputs": [],
   "source": [
    "df2['hcall_ratio'] = df2.hcall.astype(float) / df2.hcall2.astype(float)\n",
    "df2['hcost_ratio'] = df2.hcost.astype(float) / df2.hcost2.astype(float)\n",
    "df2['cost_ratio'] = df2.cost_hi / df2.cost_hi2\n",
    "df2['gen_ratio'] = df2.gen_hi / df2.gen_hi2"
   ]
  },
  {
   "cell_type": "code",
   "execution_count": null,
   "metadata": {
    "collapsed": false
   },
   "outputs": [],
   "source": [
    "df2.hcall_ratio.describe()"
   ]
  },
  {
   "cell_type": "code",
   "execution_count": null,
   "metadata": {
    "collapsed": false
   },
   "outputs": [],
   "source": [
    "plt.hist(df.hcall_ratio, bins=20)"
   ]
  },
  {
   "cell_type": "code",
   "execution_count": null,
   "metadata": {
    "collapsed": false
   },
   "outputs": [],
   "source": [
    "df2.hcost_ratio.describe()"
   ]
  },
  {
   "cell_type": "code",
   "execution_count": null,
   "metadata": {
    "collapsed": false
   },
   "outputs": [],
   "source": [
    "plt.hist(df.hcost_ratio, bins=20)"
   ]
  },
  {
   "cell_type": "code",
   "execution_count": null,
   "metadata": {
    "collapsed": false
   },
   "outputs": [],
   "source": [
    "df2.cost_ratio.describe()"
   ]
  },
  {
   "cell_type": "code",
   "execution_count": null,
   "metadata": {
    "collapsed": false
   },
   "outputs": [],
   "source": [
    "plt.hist(df2.cost_ratio, bins=50)"
   ]
  },
  {
   "cell_type": "code",
   "execution_count": null,
   "metadata": {
    "collapsed": false
   },
   "outputs": [],
   "source": [
    "df2.gen_ratio.describe()"
   ]
  },
  {
   "cell_type": "code",
   "execution_count": null,
   "metadata": {
    "collapsed": false
   },
   "outputs": [],
   "source": [
    "plt.hist(df2.gen_ratio, bins=50)"
   ]
  },
  {
   "cell_type": "code",
   "execution_count": null,
   "metadata": {
    "collapsed": false
   },
   "outputs": [],
   "source": [
    "# lazy-compute\n",
    "df = df2.copy()\n",
    "df['ratio1'] = df.hcall / df.gen_hi\n",
    "df['ratio2'] = df.hcall2 / df.gen_hi2\n",
    "\n",
    "# plt.rc('grid', linestyle=\"-.\", color='gray')\n",
    "fig, ax = plt.subplots()\n",
    "ax.set_xlabel('heuristic call / generated')\n",
    "ax.set_ylabel('count')\n",
    "ax.set_xticks(np.arange(0.1, 1.0, 0.05), minor=True)\n",
    "plt.hist(df.ratio1, bins=100, range=(0.1, 2.0), color='b')\n",
    "plt.hist(df.ratio2, bins=100, range=(0.1, 2.0), color='r')\n",
    "plt.grid(True)\n",
    "fig.savefig('./figs/lazy_compute.png', bbox_inches='tight')"
   ]
  },
  {
   "cell_type": "code",
   "execution_count": null,
   "metadata": {
    "collapsed": false
   },
   "outputs": [],
   "source": [
    "# lazy-compute\n",
    "df = df2.copy()\n",
    "df['ratio'] = df.hcall2 / df.gen_hi2\n",
    "\n",
    "# plt.rc('grid', linestyle=\"-.\", color='gray')\n",
    "fig, ax = plt.subplots()\n",
    "ax.set_xlabel('heuristic call / generated')\n",
    "ax.set_ylabel('count')\n",
    "ax.set_xticks(np.arange(0.1, 1.0, 0.05), minor=True)\n",
    "plt.hist(df.ratio, bins=100, range=(0.1, 1.0))\n",
    "plt.grid(True)\n",
    "fig.savefig('./figs/lazy_compute.png', bbox_inches='tight')"
   ]
  },
  {
   "cell_type": "code",
   "execution_count": null,
   "metadata": {
    "collapsed": false
   },
   "outputs": [],
   "source": [
    "plt.hist(df2.ratio, bins=20)"
   ]
  },
  {
   "cell_type": "code",
   "execution_count": null,
   "metadata": {
    "collapsed": true
   },
   "outputs": [],
   "source": [
    "import matplotlib.ticker"
   ]
  },
  {
   "cell_type": "code",
   "execution_count": null,
   "metadata": {
    "collapsed": false
   },
   "outputs": [],
   "source": [
    "df1.head()"
   ]
  },
  {
   "cell_type": "code",
   "execution_count": null,
   "metadata": {
    "collapsed": false
   },
   "outputs": [],
   "source": [
    "# hcall ratio\n",
    "df = df1.copy()\n",
    "df['hratio'] = df.hcost / df.cost_hi\n",
    "fig, ax = plt.subplots()\n",
    "ax.set_xlabel('heuristic cost / total cost')\n",
    "ax.set_ylabel('count')\n",
    "ax.set_xticks(np.arange(0.1, 1.0, 0.05), minor=True)\n",
    "plt.hist(df.hratio, bins=100, color='orange')\n",
    "plt.grid(True)\n",
    "fig.savefig('./figs/hcost.png', bbox_inches='tight')"
   ]
  },
  {
   "cell_type": "code",
   "execution_count": null,
   "metadata": {
    "collapsed": false
   },
   "outputs": [],
   "source": [
    "df1[df1.k == 1].shape"
   ]
  },
  {
   "cell_type": "code",
   "execution_count": null,
   "metadata": {
    "collapsed": false,
    "scrolled": true
   },
   "outputs": [],
   "source": [
    "# lazy-compute\n",
    "df = df1.copy()\n",
    "df = df[(df.k == 1)]\n",
    "df['ratio'] = df.hcall / df.gen_hi\n",
    "\n",
    "# plt.rc('grid', linestyle=\"-.\", color='gray')\n",
    "fig, ax = plt.subplots()\n",
    "ax.set_xlabel('heuristic call / generated')\n",
    "ax.set_ylabel('count')\n",
    "ax.set_xticks(np.arange(0.1, 1.0, 0.05), minor=True)\n",
    "plt.hist(df.ratio, bins=100, range=(0.1, 1.0))\n",
    "plt.grid(True)\n",
    "fig.savefig('./figs/lazy_compute.png', bbox_inches='tight')"
   ]
  },
  {
   "cell_type": "code",
   "execution_count": null,
   "metadata": {
    "collapsed": false,
    "scrolled": true
   },
   "outputs": [],
   "source": [
    "# lazy-reassign\n",
    "saveto = './figs/lazy_reassign.png'\n",
    "df = df1.copy()\n",
    "# df = df[df.k > 1]\n",
    "df['rate'] = df.reevaluate / df.gen_hi\n",
    "x, y = gen_xy(df, 'k', 'rate', limit=1)\n",
    "plot_graph('k', 're-assign rate', [x], [y], \n",
    "           ['lazy reassign'], yscale='linear', saveto=saveto)\n"
   ]
  }
 ],
 "metadata": {
  "anaconda-cloud": {},
  "kernelspec": {
   "display_name": "Python 3",
   "language": "python",
   "name": "python3"
  },
  "language_info": {
   "codemirror_mode": {
    "name": "ipython",
    "version": 3
   },
   "file_extension": ".py",
   "mimetype": "text/x-python",
   "name": "python",
   "nbconvert_exporter": "python",
   "pygments_lexer": "ipython3",
   "version": "3.5.3"
  }
 },
 "nbformat": 4,
 "nbformat_minor": 2
}
