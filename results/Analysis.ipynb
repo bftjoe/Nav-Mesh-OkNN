{
 "cells": [
  {
   "cell_type": "code",
   "execution_count": 45,
   "metadata": {
    "collapsed": false
   },
   "outputs": [],
   "source": [
    "import pandas as pd\n",
    "import seaborn as sns\n",
    "import numpy as np\n",
    "% matplotlib inline"
   ]
  },
  {
   "cell_type": "code",
   "execution_count": 31,
   "metadata": {
    "collapsed": true
   },
   "outputs": [],
   "source": [
    "def load_data(fname):\n",
    "    with open(fname, \"r\") as f:\n",
    "        # ignore `vertices: ...` at head and `Total: ..` at tail\n",
    "        raws = f.readlines()[1:-1]\n",
    "    header = [i.strip() for i in raws[0].split(',')]\n",
    "    lines = [[j.strip() for j in i.split(',')] for i in raws[1:]]\n",
    "    t = pd.DataFrame.from_records(lines, columns=header)\n",
    "    res = t[header].apply(pd.to_numeric, errors='ignore')\n",
    "    res['k'] = res['idx'].apply(lambda x: int(x.split('/')[-1]))\n",
    "    res['idx'] = res['idx'].apply(lambda x: int(x.split('/')[0]))\n",
    "    return res[res.k > 0]"
   ]
  },
  {
   "cell_type": "code",
   "execution_count": 32,
   "metadata": {
    "collapsed": false
   },
   "outputs": [],
   "source": [
    "df = load_data(\"polys300_pts500.txt\")"
   ]
  },
  {
   "cell_type": "code",
   "execution_count": 33,
   "metadata": {
    "collapsed": false
   },
   "outputs": [
    {
     "data": {
      "text/html": [
       "<div>\n",
       "<table border=\"1\" class=\"dataframe\">\n",
       "  <thead>\n",
       "    <tr style=\"text-align: right;\">\n",
       "      <th></th>\n",
       "      <th>idx</th>\n",
       "      <th>dist_ki</th>\n",
       "      <th>dist_edbt</th>\n",
       "      <th>cost_ki</th>\n",
       "      <th>cost_edbt</th>\n",
       "      <th>vnum_ki</th>\n",
       "      <th>vnum_edbt</th>\n",
       "      <th>k</th>\n",
       "    </tr>\n",
       "  </thead>\n",
       "  <tbody>\n",
       "    <tr>\n",
       "      <th>1</th>\n",
       "      <td>0</td>\n",
       "      <td>1652.50</td>\n",
       "      <td>1652.50</td>\n",
       "      <td>50.189</td>\n",
       "      <td>56246.6</td>\n",
       "      <td>2</td>\n",
       "      <td>2</td>\n",
       "      <td>1</td>\n",
       "    </tr>\n",
       "    <tr>\n",
       "      <th>2</th>\n",
       "      <td>0</td>\n",
       "      <td>2831.19</td>\n",
       "      <td>2831.19</td>\n",
       "      <td>50.189</td>\n",
       "      <td>56246.6</td>\n",
       "      <td>2</td>\n",
       "      <td>2</td>\n",
       "      <td>2</td>\n",
       "    </tr>\n",
       "    <tr>\n",
       "      <th>3</th>\n",
       "      <td>0</td>\n",
       "      <td>3387.30</td>\n",
       "      <td>3387.30</td>\n",
       "      <td>50.189</td>\n",
       "      <td>56246.6</td>\n",
       "      <td>5</td>\n",
       "      <td>5</td>\n",
       "      <td>3</td>\n",
       "    </tr>\n",
       "    <tr>\n",
       "      <th>4</th>\n",
       "      <td>0</td>\n",
       "      <td>3547.90</td>\n",
       "      <td>3547.90</td>\n",
       "      <td>50.189</td>\n",
       "      <td>56246.6</td>\n",
       "      <td>2</td>\n",
       "      <td>2</td>\n",
       "      <td>4</td>\n",
       "    </tr>\n",
       "    <tr>\n",
       "      <th>6</th>\n",
       "      <td>1</td>\n",
       "      <td>1674.26</td>\n",
       "      <td>1674.26</td>\n",
       "      <td>97.978</td>\n",
       "      <td>266494.0</td>\n",
       "      <td>2</td>\n",
       "      <td>2</td>\n",
       "      <td>1</td>\n",
       "    </tr>\n",
       "  </tbody>\n",
       "</table>\n",
       "</div>"
      ],
      "text/plain": [
       "   idx  dist_ki  dist_edbt  cost_ki  cost_edbt  vnum_ki  vnum_edbt  k\n",
       "1    0  1652.50    1652.50   50.189    56246.6        2          2  1\n",
       "2    0  2831.19    2831.19   50.189    56246.6        2          2  2\n",
       "3    0  3387.30    3387.30   50.189    56246.6        5          5  3\n",
       "4    0  3547.90    3547.90   50.189    56246.6        2          2  4\n",
       "6    1  1674.26    1674.26   97.978   266494.0        2          2  1"
      ]
     },
     "execution_count": 33,
     "metadata": {},
     "output_type": "execute_result"
    }
   ],
   "source": [
    "df.head()"
   ]
  },
  {
   "cell_type": "code",
   "execution_count": 40,
   "metadata": {
    "collapsed": false
   },
   "outputs": [
    {
     "data": {
      "text/plain": [
       "<matplotlib.axes._subplots.AxesSubplot at 0x1148f06a0>"
      ]
     },
     "execution_count": 40,
     "metadata": {},
     "output_type": "execute_result"
    },
    {
     "data": {
      "image/png": "[encoded data removed]",
      "text/plain": [
       "<matplotlib.figure.Figure at 0x11483eb00>"
      ]
     },
     "metadata": {},
     "output_type": "display_data"
    }
   ],
   "source": [
    "sns.distplot(df.vnum_ki)"
   ]
  },
  {
   "cell_type": "code",
   "execution_count": 47,
   "metadata": {
    "collapsed": false
   },
   "outputs": [
    {
     "data": {
      "text/plain": [
       "<matplotlib.axes._subplots.AxesSubplot at 0x1154080b8>"
      ]
     },
     "execution_count": 47,
     "metadata": {},
     "output_type": "execute_result"
    },
    {
     "data": {
      "image/png": "[encoded data removed]",
      "text/plain": [
       "<matplotlib.figure.Figure at 0x1154205f8>"
      ]
     },
     "metadata": {},
     "output_type": "display_data"
    }
   ],
   "source": [
    "sns.distplot(np.log10(df.cost_ki))"
   ]
  },
  {
   "cell_type": "code",
   "execution_count": 46,
   "metadata": {
    "collapsed": false
   },
   "outputs": [
    {
     "data": {
      "text/plain": [
       "<matplotlib.axes._subplots.AxesSubplot at 0x115206908>"
      ]
     },
     "execution_count": 46,
     "metadata": {},
     "output_type": "execute_result"
    },
    {
     "data": {
      "image/png": "[encoded data removed]",
      "text/plain": [
       "<matplotlib.figure.Figure at 0x1151d4d68>"
      ]
     },
     "metadata": {},
     "output_type": "display_data"
    }
   ],
   "source": [
    "sns.distplot(np.log10(df.cost_edbt))"
   ]
  }
 ],
 "metadata": {
  "kernelspec": {
   "display_name": "Python 3",
   "language": "python",
   "name": "python3"
  },
  "language_info": {
   "codemirror_mode": {
    "name": "ipython",
    "version": 3
   },
   "file_extension": ".py",
   "mimetype": "text/x-python",
   "name": "python",
   "nbconvert_exporter": "python",
   "pygments_lexer": "ipython3",
   "version": "3.5.3"
  }
 },
 "nbformat": 4,
 "nbformat_minor": 2
}
