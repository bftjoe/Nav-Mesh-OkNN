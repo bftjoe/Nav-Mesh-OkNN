{
 "cells": [
  {
   "cell_type": "code",
   "execution_count": 45,
   "metadata": {
    "collapsed": false
   },
   "outputs": [],
   "source": [
    "import pandas as pd\n",
    "import seaborn as sns\n",
    "import numpy as np\n",
    "% matplotlib inline"
   ]
  },
  {
   "cell_type": "code",
   "execution_count": 48,
   "metadata": {
    "collapsed": true
   },
   "outputs": [],
   "source": [
    "def load_data(fname):\n",
    "    with open(fname, \"r\") as f:\n",
    "        # ignore `vertices: ...` at head and `Total: ..` at tail\n",
    "        raws = f.readlines()[1:-1]\n",
    "    header = [i.strip() for i in raws[0].split(',')]\n",
    "    lines = [[j.strip() for j in i.split(',')] for i in raws[1:]]\n",
    "    t = pd.DataFrame.from_records(lines, columns=header)\n",
    "    res = t[header].apply(pd.to_numeric, errors='ignore')\n",
    "    return res[res['order'] > 0]"
   ]
  },
  {
   "cell_type": "code",
   "execution_count": 49,
   "metadata": {
    "collapsed": false
   },
   "outputs": [],
   "source": [
    "df = load_data(\"polys300_pts500/cmp.log\")"
   ]
  },
  {
   "cell_type": "code",
   "execution_count": 50,
   "metadata": {
    "collapsed": false
   },
   "outputs": [
    {
     "data": {
      "text/html": [
       "<div>\n",
       "<table border=\"1\" class=\"dataframe\">\n",
       "  <thead>\n",
       "    <tr style=\"text-align: right;\">\n",
       "      <th></th>\n",
       "      <th>idx</th>\n",
       "      <th>K</th>\n",
       "      <th>order</th>\n",
       "      <th>dist_ki</th>\n",
       "      <th>dist_edbt</th>\n",
       "      <th>cost_ki</th>\n",
       "      <th>cost_edbt</th>\n",
       "      <th>vnum_ki</th>\n",
       "      <th>vnum_edbt</th>\n",
       "    </tr>\n",
       "  </thead>\n",
       "  <tbody>\n",
       "    <tr>\n",
       "      <th>1</th>\n",
       "      <td>0</td>\n",
       "      <td>5</td>\n",
       "      <td>1.0</td>\n",
       "      <td>1652.50</td>\n",
       "      <td>1652.50</td>\n",
       "      <td>27.332</td>\n",
       "      <td>33210.1</td>\n",
       "      <td>2.0</td>\n",
       "      <td>2.0</td>\n",
       "    </tr>\n",
       "    <tr>\n",
       "      <th>2</th>\n",
       "      <td>0</td>\n",
       "      <td>5</td>\n",
       "      <td>2.0</td>\n",
       "      <td>2831.19</td>\n",
       "      <td>2831.19</td>\n",
       "      <td>27.332</td>\n",
       "      <td>33210.1</td>\n",
       "      <td>2.0</td>\n",
       "      <td>2.0</td>\n",
       "    </tr>\n",
       "    <tr>\n",
       "      <th>3</th>\n",
       "      <td>0</td>\n",
       "      <td>5</td>\n",
       "      <td>3.0</td>\n",
       "      <td>3387.30</td>\n",
       "      <td>3387.30</td>\n",
       "      <td>27.332</td>\n",
       "      <td>33210.1</td>\n",
       "      <td>5.0</td>\n",
       "      <td>5.0</td>\n",
       "    </tr>\n",
       "    <tr>\n",
       "      <th>4</th>\n",
       "      <td>0</td>\n",
       "      <td>5</td>\n",
       "      <td>4.0</td>\n",
       "      <td>3547.90</td>\n",
       "      <td>3547.90</td>\n",
       "      <td>27.332</td>\n",
       "      <td>33210.1</td>\n",
       "      <td>2.0</td>\n",
       "      <td>2.0</td>\n",
       "    </tr>\n",
       "    <tr>\n",
       "      <th>6</th>\n",
       "      <td>1</td>\n",
       "      <td>5</td>\n",
       "      <td>1.0</td>\n",
       "      <td>1674.26</td>\n",
       "      <td>1674.26</td>\n",
       "      <td>17.065</td>\n",
       "      <td>70495.3</td>\n",
       "      <td>2.0</td>\n",
       "      <td>2.0</td>\n",
       "    </tr>\n",
       "  </tbody>\n",
       "</table>\n",
       "</div>"
      ],
      "text/plain": [
       "  idx  K  order  dist_ki  dist_edbt  cost_ki  cost_edbt  vnum_ki  vnum_edbt\n",
       "1   0  5    1.0  1652.50    1652.50   27.332    33210.1      2.0        2.0\n",
       "2   0  5    2.0  2831.19    2831.19   27.332    33210.1      2.0        2.0\n",
       "3   0  5    3.0  3387.30    3387.30   27.332    33210.1      5.0        5.0\n",
       "4   0  5    4.0  3547.90    3547.90   27.332    33210.1      2.0        2.0\n",
       "6   1  5    1.0  1674.26    1674.26   17.065    70495.3      2.0        2.0"
      ]
     },
     "execution_count": 50,
     "metadata": {},
     "output_type": "execute_result"
    }
   ],
   "source": [
    "df.head()"
   ]
  },
  {
   "cell_type": "code",
   "execution_count": 86,
   "metadata": {
    "collapsed": false
   },
   "outputs": [
    {
     "data": {
      "text/plain": [
       "<seaborn.axisgrid.FacetGrid at 0x11644f7f0>"
      ]
     },
     "execution_count": 86,
     "metadata": {},
     "output_type": "execute_result"
    },
    {
     "data": {
      "image/png": "[encoded data removed]",
      "text/plain": [
       "<matplotlib.figure.Figure at 0x11644f550>"
      ]
     },
     "metadata": {},
     "output_type": "display_data"
    }
   ],
   "source": [
    "t = pd.DataFrame(data={'ratio': df.cost_edbt / df.cost_ki, 'vnum': df.vnum_ki})\n",
    "tg = t.groupby(t.vnum)\n",
    "x = []\n",
    "y = []\n",
    "for k, v in tg.ratio.median().items():\n",
    "    x.append(k)\n",
    "    y.append(v)\n",
    "\n",
    "sns.lmplot('vert_num', 'faster', pd.DataFrame({'faster':y, 'vert_num':x}))"
   ]
  },
  {
   "cell_type": "code",
   "execution_count": 87,
   "metadata": {
    "collapsed": false
   },
   "outputs": [],
   "source": [
    "ki = df[['K', 'cost_ki']]\n",
    "edbt = df[['K', 'cost_edbt']]"
   ]
  },
  {
   "cell_type": "code",
   "execution_count": 90,
   "metadata": {
    "collapsed": false
   },
   "outputs": [
    {
     "data": {
      "text/plain": [
       "K\n",
       "10    43.281608\n",
       "15    68.053588\n",
       "20    97.146830\n",
       "5     20.597502\n",
       "Name: cost_ki, dtype: float64"
      ]
     },
     "execution_count": 90,
     "metadata": {},
     "output_type": "execute_result"
    }
   ],
   "source": [
    "tg.cost_ki.apply(lambda x: np.average(x))"
   ]
  },
  {
   "cell_type": "code",
   "execution_count": 119,
   "metadata": {
    "collapsed": false
   },
   "outputs": [],
   "source": [
    "tg = ki.groupby('K')\n",
    "x0 = []\n",
    "y0 = []\n",
    "for k, v in tg.cost_ki.apply(lambda _: np.average(_)).items():\n",
    "    x0.append(int(k))\n",
    "    y0.append(np.log10(v))\n",
    "    \n",
    "tg = edbt.groupby('K')\n",
    "x1 = []\n",
    "y1 = []\n",
    "for k, v in tg.cost_edbt.apply(lambda _: np.average(_)).items():\n",
    "    x1.append(int(k))\n",
    "    y1.append(np.log10(v))"
   ]
  },
  {
   "cell_type": "code",
   "execution_count": 120,
   "metadata": {
    "collapsed": false
   },
   "outputs": [
    {
     "data": {
      "text/plain": [
       "<matplotlib.axes._subplots.AxesSubplot at 0x11642e160>"
      ]
     },
     "execution_count": 120,
     "metadata": {},
     "output_type": "execute_result"
    },
    {
     "data": {
      "image/png": "[encoded data removed]",
      "text/plain": [
       "<matplotlib.figure.Figure at 0x1163ef898>"
      ]
     },
     "metadata": {},
     "output_type": "display_data"
    }
   ],
   "source": [
    "sns.regplot('K', 'time', pd.DataFrame({'time': y0, 'K': x0}))\n",
    "sns.regplot('K', 'time', pd.DataFrame({'time': y1, 'K': x1}))"
   ]
  },
  {
   "cell_type": "code",
   "execution_count": 52,
   "metadata": {
    "collapsed": false
   },
   "outputs": [
    {
     "data": {
      "text/plain": [
       "<matplotlib.axes._subplots.AxesSubplot at 0x116860048>"
      ]
     },
     "execution_count": 52,
     "metadata": {},
     "output_type": "execute_result"
    },
    {
     "data": {
      "image/png": "[encoded data removed]",
      "text/plain": [
       "<matplotlib.figure.Figure at 0x1168584e0>"
      ]
     },
     "metadata": {},
     "output_type": "display_data"
    }
   ],
   "source": [
    "sns.distplot(np.log10(df.cost_ki))"
   ]
  },
  {
   "cell_type": "code",
   "execution_count": 53,
   "metadata": {
    "collapsed": false
   },
   "outputs": [
    {
     "data": {
      "text/plain": [
       "<matplotlib.axes._subplots.AxesSubplot at 0x11675a7b8>"
      ]
     },
     "execution_count": 53,
     "metadata": {},
     "output_type": "execute_result"
    },
    {
     "data": {
      "image/png": "[encoded data removed]",
      "text/plain": [
       "<matplotlib.figure.Figure at 0x116747cf8>"
      ]
     },
     "metadata": {},
     "output_type": "display_data"
    }
   ],
   "source": [
    "sns.distplot(np.log10(df.cost_edbt))"
   ]
  }
 ],
 "metadata": {
  "kernelspec": {
   "display_name": "Python 3",
   "language": "python",
   "name": "python3"
  },
  "language_info": {
   "codemirror_mode": {
    "name": "ipython",
    "version": 3
   },
   "file_extension": ".py",
   "mimetype": "text/x-python",
   "name": "python",
   "nbconvert_exporter": "python",
   "pygments_lexer": "ipython3",
   "version": "3.5.3"
  }
 },
 "nbformat": 4,
 "nbformat_minor": 2
}
